{
 "cells": [
  {
   "cell_type": "markdown",
   "metadata": {
    "id": "D8fbS7s4ZGxs"
   },
   "source": [
    "# Introduction\n",
    "\n",
    "In this project, you will build a neural network of your own design to evaluate the MNIST dataset.\n",
    "\n",
    "Some of the benchmark results on MNIST include can be found [on Yann LeCun's page](http://yann.lecun.com/exdb/mnist/) and include:\n",
    "\n",
    "88% [Lecun et al., 1998](http://yann.lecun.com/exdb/publis/pdf/lecun-98.pdf)\n",
    "95.3% [Lecun et al., 1998](http://yann.lecun.com/exdb/publis/pdf/lecun-98.pdf)\n",
    "99.65% [Ciresan et al., 2011](http://people.idsia.ch/~juergen/ijcai2011.pdf)\n",
    "\n",
    "MNIST is a great dataset for sanity checking your models, since the accuracy levels achieved by large convolutional neural networks and small linear models are both quite high. This makes it important to be familiar with the data.\n",
    "\n",
    "## Imports"
   ]
  },
  {
   "cell_type": "code",
   "execution_count": 1,
   "metadata": {},
   "outputs": [
    {
     "name": "stdout",
     "output_type": "stream",
     "text": [
      "Defaulting to user installation because normal site-packages is not writeable\n",
      "Collecting ipywidgets\n",
      "  Downloading ipywidgets-8.0.7-py3-none-any.whl (138 kB)\n",
      "\u001b[K     |████████████████████████████████| 138 kB 5.6 MB/s eta 0:00:01\n",
      "\u001b[?25hCollecting widgetsnbextension~=4.0.7\n",
      "  Downloading widgetsnbextension-4.0.8-py3-none-any.whl (2.3 MB)\n",
      "\u001b[K     |████████████████████████████████| 2.3 MB 33.1 MB/s eta 0:00:01\n",
      "\u001b[?25hRequirement already satisfied, skipping upgrade: ipykernel>=4.5.1 in /opt/conda/lib/python3.7/site-packages (from ipywidgets) (5.1.4)\n",
      "Collecting jupyterlab-widgets~=3.0.7\n",
      "  Downloading jupyterlab_widgets-3.0.8-py3-none-any.whl (214 kB)\n",
      "\u001b[K     |████████████████████████████████| 214 kB 42.7 MB/s eta 0:00:01\n",
      "\u001b[?25hRequirement already satisfied, skipping upgrade: traitlets>=4.3.1 in /opt/conda/lib/python3.7/site-packages (from ipywidgets) (4.3.3)\n",
      "Requirement already satisfied, skipping upgrade: ipython>=6.1.0 in /opt/conda/lib/python3.7/site-packages (from ipywidgets) (7.13.0)\n",
      "Requirement already satisfied, skipping upgrade: jupyter-client in /opt/conda/lib/python3.7/site-packages (from ipykernel>=4.5.1->ipywidgets) (6.0.0)\n",
      "Requirement already satisfied, skipping upgrade: tornado>=4.2 in /opt/conda/lib/python3.7/site-packages (from ipykernel>=4.5.1->ipywidgets) (5.1.1)\n",
      "Requirement already satisfied, skipping upgrade: six in /opt/conda/lib/python3.7/site-packages (from traitlets>=4.3.1->ipywidgets) (1.16.0)\n",
      "Requirement already satisfied, skipping upgrade: decorator in /opt/conda/lib/python3.7/site-packages (from traitlets>=4.3.1->ipywidgets) (4.4.2)\n",
      "Requirement already satisfied, skipping upgrade: ipython-genutils in /opt/conda/lib/python3.7/site-packages (from traitlets>=4.3.1->ipywidgets) (0.2.0)\n",
      "Requirement already satisfied, skipping upgrade: pygments in /opt/conda/lib/python3.7/site-packages (from ipython>=6.1.0->ipywidgets) (2.5.2)\n",
      "Requirement already satisfied, skipping upgrade: jedi>=0.10 in /opt/conda/lib/python3.7/site-packages (from ipython>=6.1.0->ipywidgets) (0.16.0)\n",
      "Requirement already satisfied, skipping upgrade: backcall in /opt/conda/lib/python3.7/site-packages (from ipython>=6.1.0->ipywidgets) (0.1.0)\n",
      "Requirement already satisfied, skipping upgrade: pickleshare in /opt/conda/lib/python3.7/site-packages (from ipython>=6.1.0->ipywidgets) (0.7.5)\n",
      "Requirement already satisfied, skipping upgrade: prompt-toolkit!=3.0.0,!=3.0.1,<3.1.0,>=2.0.0 in /opt/conda/lib/python3.7/site-packages (from ipython>=6.1.0->ipywidgets) (3.0.3)\n",
      "Requirement already satisfied, skipping upgrade: pexpect; sys_platform != \"win32\" in /opt/conda/lib/python3.7/site-packages (from ipython>=6.1.0->ipywidgets) (4.8.0)\n",
      "Requirement already satisfied, skipping upgrade: setuptools>=18.5 in /opt/conda/lib/python3.7/site-packages (from ipython>=6.1.0->ipywidgets) (45.2.0.post20200209)\n",
      "Requirement already satisfied, skipping upgrade: python-dateutil>=2.1 in /opt/conda/lib/python3.7/site-packages (from jupyter-client->ipykernel>=4.5.1->ipywidgets) (2.8.1)\n",
      "Requirement already satisfied, skipping upgrade: pyzmq>=13 in /opt/conda/lib/python3.7/site-packages (from jupyter-client->ipykernel>=4.5.1->ipywidgets) (19.0.0)\n",
      "Requirement already satisfied, skipping upgrade: jupyter-core>=4.6.0 in /opt/conda/lib/python3.7/site-packages (from jupyter-client->ipykernel>=4.5.1->ipywidgets) (4.6.3)\n",
      "Requirement already satisfied, skipping upgrade: parso>=0.5.2 in /opt/conda/lib/python3.7/site-packages (from jedi>=0.10->ipython>=6.1.0->ipywidgets) (0.6.1)\n",
      "Requirement already satisfied, skipping upgrade: wcwidth in /opt/conda/lib/python3.7/site-packages (from prompt-toolkit!=3.0.0,!=3.0.1,<3.1.0,>=2.0.0->ipython>=6.1.0->ipywidgets) (0.1.8)\n",
      "Requirement already satisfied, skipping upgrade: ptyprocess>=0.5 in /opt/conda/lib/python3.7/site-packages (from pexpect; sys_platform != \"win32\"->ipython>=6.1.0->ipywidgets) (0.6.0)\n",
      "Installing collected packages: widgetsnbextension, jupyterlab-widgets, ipywidgets\n",
      "Successfully installed ipywidgets-8.0.7 jupyterlab-widgets-3.0.8 widgetsnbextension-4.0.8\n",
      "Defaulting to user installation because normal site-packages is not writeable\n",
      "Collecting jupyter\n",
      "  Downloading jupyter-1.0.0-py2.py3-none-any.whl (2.7 kB)\n",
      "Requirement already satisfied, skipping upgrade: ipykernel in /opt/conda/lib/python3.7/site-packages (from jupyter) (5.1.4)\n",
      "Collecting qtconsole\n",
      "  Downloading qtconsole-5.4.3-py3-none-any.whl (121 kB)\n",
      "\u001b[K     |████████████████████████████████| 121 kB 5.6 MB/s eta 0:00:01\n",
      "\u001b[?25hCollecting jupyter-console\n",
      "  Downloading jupyter_console-6.6.3-py3-none-any.whl (24 kB)\n",
      "Requirement already satisfied, skipping upgrade: ipywidgets in /root/.local/lib/python3.7/site-packages (from jupyter) (8.0.7)\n",
      "Requirement already satisfied, skipping upgrade: nbconvert in /opt/conda/lib/python3.7/site-packages (from jupyter) (5.6.1)\n",
      "Requirement already satisfied, skipping upgrade: notebook in /opt/conda/lib/python3.7/site-packages (from jupyter) (5.7.4)\n",
      "Requirement already satisfied, skipping upgrade: tornado>=4.2 in /opt/conda/lib/python3.7/site-packages (from ipykernel->jupyter) (5.1.1)\n",
      "Requirement already satisfied, skipping upgrade: traitlets>=4.1.0 in /opt/conda/lib/python3.7/site-packages (from ipykernel->jupyter) (4.3.3)\n",
      "Requirement already satisfied, skipping upgrade: jupyter-client in /opt/conda/lib/python3.7/site-packages (from ipykernel->jupyter) (6.0.0)\n",
      "Requirement already satisfied, skipping upgrade: ipython>=5.0.0 in /opt/conda/lib/python3.7/site-packages (from ipykernel->jupyter) (7.13.0)\n",
      "Requirement already satisfied, skipping upgrade: pygments in /opt/conda/lib/python3.7/site-packages (from qtconsole->jupyter) (2.5.2)\n",
      "Requirement already satisfied, skipping upgrade: jupyter-core in /opt/conda/lib/python3.7/site-packages (from qtconsole->jupyter) (4.6.3)\n",
      "Requirement already satisfied, skipping upgrade: pyzmq>=17.1 in /opt/conda/lib/python3.7/site-packages (from qtconsole->jupyter) (19.0.0)\n",
      "Requirement already satisfied, skipping upgrade: ipython-genutils in /opt/conda/lib/python3.7/site-packages (from qtconsole->jupyter) (0.2.0)\n",
      "Requirement already satisfied, skipping upgrade: packaging in /opt/conda/lib/python3.7/site-packages (from qtconsole->jupyter) (20.1)\n",
      "Collecting qtpy>=2.0.1\n",
      "  Downloading QtPy-2.3.1-py3-none-any.whl (84 kB)\n",
      "\u001b[K     |████████████████████████████████| 84 kB 3.0 MB/s  eta 0:00:01\n",
      "\u001b[?25hCollecting prompt-toolkit>=3.0.30\n",
      "  Downloading prompt_toolkit-3.0.39-py3-none-any.whl (385 kB)\n",
      "\u001b[K     |████████████████████████████████| 385 kB 40.4 MB/s eta 0:00:01\n",
      "\u001b[?25hRequirement already satisfied, skipping upgrade: widgetsnbextension~=4.0.7 in /root/.local/lib/python3.7/site-packages (from ipywidgets->jupyter) (4.0.8)\n",
      "Requirement already satisfied, skipping upgrade: jupyterlab-widgets~=3.0.7 in /root/.local/lib/python3.7/site-packages (from ipywidgets->jupyter) (3.0.8)\n",
      "Requirement already satisfied, skipping upgrade: mistune<2,>=0.8.1 in /opt/conda/lib/python3.7/site-packages (from nbconvert->jupyter) (0.8.4)\n",
      "Requirement already satisfied, skipping upgrade: bleach in /opt/conda/lib/python3.7/site-packages (from nbconvert->jupyter) (3.1.1)\n",
      "Requirement already satisfied, skipping upgrade: pandocfilters>=1.4.1 in /opt/conda/lib/python3.7/site-packages (from nbconvert->jupyter) (1.4.2)\n",
      "Requirement already satisfied, skipping upgrade: testpath in /opt/conda/lib/python3.7/site-packages (from nbconvert->jupyter) (0.4.4)\n",
      "Requirement already satisfied, skipping upgrade: nbformat>=4.4 in /opt/conda/lib/python3.7/site-packages (from nbconvert->jupyter) (5.0.4)\n",
      "Requirement already satisfied, skipping upgrade: defusedxml in /opt/conda/lib/python3.7/site-packages (from nbconvert->jupyter) (0.6.0)\n",
      "Requirement already satisfied, skipping upgrade: entrypoints>=0.2.2 in /opt/conda/lib/python3.7/site-packages (from nbconvert->jupyter) (0.3)\n",
      "Requirement already satisfied, skipping upgrade: jinja2>=2.4 in /opt/conda/lib/python3.7/site-packages (from nbconvert->jupyter) (2.11.1)\n",
      "Requirement already satisfied, skipping upgrade: Send2Trash in /opt/conda/lib/python3.7/site-packages (from notebook->jupyter) (1.5.0)\n",
      "Requirement already satisfied, skipping upgrade: prometheus-client in /opt/conda/lib/python3.7/site-packages (from notebook->jupyter) (0.7.1)\n",
      "Requirement already satisfied, skipping upgrade: terminado>=0.8.1 in /opt/conda/lib/python3.7/site-packages (from notebook->jupyter) (0.8.3)\n",
      "Requirement already satisfied, skipping upgrade: decorator in /opt/conda/lib/python3.7/site-packages (from traitlets>=4.1.0->ipykernel->jupyter) (4.4.2)\n",
      "Requirement already satisfied, skipping upgrade: six in /opt/conda/lib/python3.7/site-packages (from traitlets>=4.1.0->ipykernel->jupyter) (1.16.0)\n",
      "Requirement already satisfied, skipping upgrade: python-dateutil>=2.1 in /opt/conda/lib/python3.7/site-packages (from jupyter-client->ipykernel->jupyter) (2.8.1)\n",
      "Requirement already satisfied, skipping upgrade: setuptools>=18.5 in /opt/conda/lib/python3.7/site-packages (from ipython>=5.0.0->ipykernel->jupyter) (45.2.0.post20200209)\n",
      "Requirement already satisfied, skipping upgrade: pickleshare in /opt/conda/lib/python3.7/site-packages (from ipython>=5.0.0->ipykernel->jupyter) (0.7.5)\n",
      "Requirement already satisfied, skipping upgrade: backcall in /opt/conda/lib/python3.7/site-packages (from ipython>=5.0.0->ipykernel->jupyter) (0.1.0)\n",
      "Requirement already satisfied, skipping upgrade: pexpect; sys_platform != \"win32\" in /opt/conda/lib/python3.7/site-packages (from ipython>=5.0.0->ipykernel->jupyter) (4.8.0)\n",
      "Requirement already satisfied, skipping upgrade: jedi>=0.10 in /opt/conda/lib/python3.7/site-packages (from ipython>=5.0.0->ipykernel->jupyter) (0.16.0)\n"
     ]
    },
    {
     "name": "stdout",
     "output_type": "stream",
     "text": [
      "Requirement already satisfied, skipping upgrade: pyparsing>=2.0.2 in /opt/conda/lib/python3.7/site-packages (from packaging->qtconsole->jupyter) (2.4.6)\n",
      "Requirement already satisfied, skipping upgrade: wcwidth in /opt/conda/lib/python3.7/site-packages (from prompt-toolkit>=3.0.30->jupyter-console->jupyter) (0.1.8)\n",
      "Requirement already satisfied, skipping upgrade: webencodings in /opt/conda/lib/python3.7/site-packages (from bleach->nbconvert->jupyter) (0.5.1)\n",
      "Requirement already satisfied, skipping upgrade: jsonschema!=2.5.0,>=2.4 in /opt/conda/lib/python3.7/site-packages (from nbformat>=4.4->nbconvert->jupyter) (3.2.0)\n",
      "Requirement already satisfied, skipping upgrade: MarkupSafe>=0.23 in /opt/conda/lib/python3.7/site-packages (from jinja2>=2.4->nbconvert->jupyter) (1.1.1)\n",
      "Requirement already satisfied, skipping upgrade: ptyprocess>=0.5 in /opt/conda/lib/python3.7/site-packages (from pexpect; sys_platform != \"win32\"->ipython>=5.0.0->ipykernel->jupyter) (0.6.0)\n",
      "Requirement already satisfied, skipping upgrade: parso>=0.5.2 in /opt/conda/lib/python3.7/site-packages (from jedi>=0.10->ipython>=5.0.0->ipykernel->jupyter) (0.6.1)\n",
      "Requirement already satisfied, skipping upgrade: pyrsistent>=0.14.0 in /opt/conda/lib/python3.7/site-packages (from jsonschema!=2.5.0,>=2.4->nbformat>=4.4->nbconvert->jupyter) (0.15.7)\n",
      "Requirement already satisfied, skipping upgrade: attrs>=17.4.0 in /opt/conda/lib/python3.7/site-packages (from jsonschema!=2.5.0,>=2.4->nbformat>=4.4->nbconvert->jupyter) (19.3.0)\n",
      "Requirement already satisfied, skipping upgrade: importlib-metadata; python_version < \"3.8\" in /opt/conda/lib/python3.7/site-packages (from jsonschema!=2.5.0,>=2.4->nbformat>=4.4->nbconvert->jupyter) (1.5.0)\n",
      "Requirement already satisfied, skipping upgrade: zipp>=0.5 in /opt/conda/lib/python3.7/site-packages (from importlib-metadata; python_version < \"3.8\"->jsonschema!=2.5.0,>=2.4->nbformat>=4.4->nbconvert->jupyter) (3.0.0)\n",
      "\u001b[31mERROR: jupyter-console 6.6.3 has requirement ipykernel>=6.14, but you'll have ipykernel 5.1.4 which is incompatible.\u001b[0m\n",
      "\u001b[31mERROR: jupyter-console 6.6.3 has requirement jupyter-client>=7.0.0, but you'll have jupyter-client 6.0.0 which is incompatible.\u001b[0m\n",
      "\u001b[31mERROR: jupyter-console 6.6.3 has requirement jupyter-core!=5.0.*,>=4.12, but you'll have jupyter-core 4.6.3 which is incompatible.\u001b[0m\n",
      "\u001b[31mERROR: jupyter-console 6.6.3 has requirement traitlets>=5.4, but you'll have traitlets 4.3.3 which is incompatible.\u001b[0m\n",
      "Installing collected packages: qtpy, qtconsole, prompt-toolkit, jupyter-console, jupyter\n",
      "\u001b[33m  WARNING: The script qtpy is installed in '/root/.local/bin' which is not on PATH.\n",
      "  Consider adding this directory to PATH or, if you prefer to suppress this warning, use --no-warn-script-location.\u001b[0m\n",
      "\u001b[33m  WARNING: The script jupyter-console is installed in '/root/.local/bin' which is not on PATH.\n",
      "  Consider adding this directory to PATH or, if you prefer to suppress this warning, use --no-warn-script-location.\u001b[0m\n",
      "Successfully installed jupyter-1.0.0 jupyter-console-6.6.3 prompt-toolkit-3.0.39 qtconsole-5.4.3 qtpy-2.3.1\n"
     ]
    }
   ],
   "source": [
    "!pip install --upgrade ipywidgets\n",
    "!pip install --upgrade jupyter"
   ]
  },
  {
   "cell_type": "code",
   "execution_count": 2,
   "metadata": {
    "id": "0gZV_G9QZGxv"
   },
   "outputs": [],
   "source": [
    "## This cell contains the essential imports you will need – DO NOT CHANGE THE CONTENTS! ##\n",
    "import torch\n",
    "import torch.nn as nn\n",
    "import torch.nn.functional as F\n",
    "import torch.optim as optim\n",
    "import torchvision\n",
    "import torchvision.models as models\n",
    "import torchvision.transforms as transforms\n",
    "import matplotlib.pyplot as plt\n",
    "import numpy as np\n",
    "import multiprocessing\n",
    "from tqdm import tqdm"
   ]
  },
  {
   "cell_type": "markdown",
   "metadata": {
    "id": "rzRgApz4ZGxx"
   },
   "source": [
    "## Load the Dataset\n",
    "\n",
    "Specify your transforms as a list if you intend to .\n",
    "The transforms module is already loaded as `transforms`.\n",
    "\n",
    "MNIST is fortunately included in the torchvision module.\n",
    "Then, you can create your dataset using the `MNIST` object from `torchvision.datasets` ([the documentation is available here](https://pytorch.org/vision/stable/datasets.html#mnist)).\n",
    "Make sure to specify `download=True`!\n",
    "\n",
    "Once your dataset is created, you'll also need to define a `DataLoader` from the `torch.utils.data` module for both the train and the test set."
   ]
  },
  {
   "cell_type": "code",
   "execution_count": 3,
   "metadata": {
    "id": "A-t1KsMLZGxy"
   },
   "outputs": [
    {
     "name": "stderr",
     "output_type": "stream",
     "text": [
      "/opt/conda/lib/python3.7/site-packages/torchvision/datasets/mnist.py:498: UserWarning: The given NumPy array is not writable, and PyTorch does not support non-writable tensors. This means writing to this tensor will result in undefined behavior. You may want to copy the array to protect its data or make it writable before converting it to a tensor. This type of warning will be suppressed for the rest of this program. (Triggered internally at  ../torch/csrc/utils/tensor_numpy.cpp:178.)\n",
      "  return torch.from_numpy(parsed.astype(m[2], copy=False)).view(*s)\n"
     ]
    }
   ],
   "source": [
    "#  number of subprocesses to use for data loading, here, I set to equal number of cpus available\n",
    "num_workers = multiprocessing.cpu_count()\n",
    "\n",
    "# Define transforms\n",
    "transform = transforms.Compose([transforms.ToTensor(), transforms.Normalize((0.5), (0.5))])\n",
    "\n",
    "# Create training set and define training dataloader\n",
    "train_val_datasets = torchvision.datasets.MNIST(root = \"data\", download = True, train = True, transform = transform)\n",
    "\n",
    "len_training_datasets = int(len(train_val_datasets)*0.8)\n",
    "len_val_datasets = len(train_val_datasets) - len_training_datasets\n",
    "\n",
    "\n",
    "training_datasets, val_datatasets = torch.utils.data.random_split(train_val_datasets, [len_training_datasets, len_val_datasets], generator = torch.Generator().manual_seed(42))\n",
    "\n",
    "training_dataloader = torch.utils.data.DataLoader(training_datasets, batch_size = 64, shuffle = True, num_workers = num_workers)\n",
    "\n",
    "val_dataloader = torch.utils.data.DataLoader(val_datatasets, batch_size = 64, shuffle = False, num_workers = num_workers )\n",
    "\n",
    "# Create test set and define test dataloader\n",
    "test_datasets = torchvision.datasets.MNIST(root = \"data\", download = True, train = False, transform = transform)\n",
    "test_dataloader = torch.utils.data.DataLoader(test_datasets, batch_size = 64, shuffle = False, num_workers = num_workers)"
   ]
  },
  {
   "cell_type": "markdown",
   "metadata": {
    "id": "wxi7BsyoZGxy"
   },
   "source": [
    "## Justify your preprocessing\n",
    "\n",
    "In your own words, why did you choose the transforms you chose? If you didn't use any preprocessing steps, why not?"
   ]
  },
  {
   "cell_type": "markdown",
   "metadata": {
    "id": "4NwZTWffZGxz"
   },
   "source": [
    "**** I chose normalization transformation simply because I want to convert the pixels value from 0-255 to -1 t0 1 for better application of gradient functions and optimization. I also used ToTensor transformation to move the arrays from numpy or PIL_Image to tensor arrays for pytorch use. I flatten the data from 2D matrix into vector to allow forward feeding into the model as required by multilayer perceptron (MLP). ****"
   ]
  },
  {
   "cell_type": "markdown",
   "metadata": {
    "id": "5SkUHj19ZGxz"
   },
   "source": [
    "## Explore the Dataset\n",
    "Using matplotlib, numpy, and torch, explore the dimensions of your data.\n",
    "\n",
    "You can view images using the `show5` function defined below – it takes a data loader as an argument.\n",
    "Remember that normalized images will look really weird to you! You may want to try changing your transforms to view images.\n",
    "Typically using no transforms other than `toTensor()` works well for viewing – but not as well for training your network.\n",
    "If `show5` doesn't work, go back and check your code for creating your data loaders and your training/test sets."
   ]
  },
  {
   "cell_type": "code",
   "execution_count": 4,
   "metadata": {
    "id": "k3skqP9JZGxz"
   },
   "outputs": [],
   "source": [
    "## This cell contains a function for showing 5 images from a dataloader – DO NOT CHANGE THE CONTENTS! ##\n",
    "def show5(img_loader):\n",
    "    dataiter = iter(img_loader)\n",
    "\n",
    "    batch = next(dataiter)\n",
    "    labels = batch[1][0:5]\n",
    "    images = batch[0][0:5]\n",
    "    for i in range(5):\n",
    "        print(int(labels[i].detach()))\n",
    "\n",
    "        image = images[i].numpy()\n",
    "        plt.imshow(image.T.squeeze().T)\n",
    "        plt.show()"
   ]
  },
  {
   "cell_type": "code",
   "execution_count": 5,
   "metadata": {
    "colab": {
     "base_uri": "https://localhost:8080/",
     "height": 1000
    },
    "id": "d93VpHooZGxz",
    "outputId": "ab47f4b5-d405-4a4a-8aee-b2dbed48c854"
   },
   "outputs": [
    {
     "name": "stdout",
     "output_type": "stream",
     "text": [
      "1\n"
     ]
    },
    {
     "data": {
      "image/png": "[encoded data removed]",
      "text/plain": [
       "<Figure size 432x288 with 1 Axes>"
      ]
     },
     "metadata": {
      "needs_background": "light"
     },
     "output_type": "display_data"
    },
    {
     "name": "stdout",
     "output_type": "stream",
     "text": [
      "2\n"
     ]
    },
    {
     "data": {
      "image/png": "[encoded data removed]",
      "text/plain": [
       "<Figure size 432x288 with 1 Axes>"
      ]
     },
     "metadata": {
      "needs_background": "light"
     },
     "output_type": "display_data"
    },
    {
     "name": "stdout",
     "output_type": "stream",
     "text": [
      "3\n"
     ]
    },
    {
     "data": {
      "image/png": "[encoded data removed]",
      "text/plain": [
       "<Figure size 432x288 with 1 Axes>"
      ]
     },
     "metadata": {
      "needs_background": "light"
     },
     "output_type": "display_data"
    },
    {
     "name": "stdout",
     "output_type": "stream",
     "text": [
      "7\n"
     ]
    },
    {
     "data": {
      "image/png": "[encoded data removed]",
      "text/plain": [
       "<Figure size 432x288 with 1 Axes>"
      ]
     },
     "metadata": {
      "needs_background": "light"
     },
     "output_type": "display_data"
    },
    {
     "name": "stdout",
     "output_type": "stream",
     "text": [
      "9\n"
     ]
    },
    {
     "data": {
      "image/png": "[encoded data removed]",
      "text/plain": [
       "<Figure size 432x288 with 1 Axes>"
      ]
     },
     "metadata": {
      "needs_background": "light"
     },
     "output_type": "display_data"
    }
   ],
   "source": [
    "# Explore data\n",
    "show5(training_dataloader)"
   ]
  },
  {
   "cell_type": "markdown",
   "metadata": {
    "id": "IbzMugp5ZGx0"
   },
   "source": [
    "## Build your Neural Network\n",
    "Using the layers in `torch.nn` (which has been imported as `nn`) and the `torch.nn.functional` module (imported as `F`), construct a neural network based on the parameters of the dataset.\n",
    "Use any architecture you like.\n",
    "\n",
    "*Note*: If you did not flatten your tensors in your transforms or as part of your preprocessing and you are using only `Linear` layers, make sure to use the `Flatten` layer in your network!"
   ]
  },
  {
   "cell_type": "markdown",
   "metadata": {
    "id": "GxPjgIj_ZGx1"
   },
   "source": [
    "Specify a loss function and an optimizer, and instantiate the model.\n",
    "\n",
    "If you use a less common loss function, please note why you chose that loss function in a comment."
   ]
  },
  {
   "cell_type": "code",
   "execution_count": 6,
   "metadata": {
    "id": "c99PBxAdZGx1"
   },
   "outputs": [],
   "source": [
    "from collections import OrderedDict\n",
    "class Classifier(nn.Module):\n",
    "    def __init__(self):\n",
    "        super(Classifier, self).__init__()\n",
    "        self.relu = F.relu\n",
    "        self.dropout = nn.Dropout(p=0.3)\n",
    "        self.fc1 = nn.Linear(1*28*28, 256)\n",
    "        self.fc2 = nn.Linear(256, 128)\n",
    "        self.fc3 = nn.Linear(128, 64)\n",
    "        self.fc4 = nn.Linear(64, 10)\n",
    "    def forward(self, x):\n",
    "        x = torch.flatten(x , 1)\n",
    "        x = self.relu(self.fc1(x))\n",
    "        x = self.relu(self.fc2(x))\n",
    "        x = self.relu(self.fc3(x))\n",
    "        x = F.log_softmax(self.fc4(x), dim = 1)\n",
    "        return x\n",
    "\n",
    "\n",
    "model = Classifier()\n"
   ]
  },
  {
   "cell_type": "code",
   "execution_count": 9,
   "metadata": {
    "id": "CXuazyKH2tt4"
   },
   "outputs": [],
   "source": [
    "\n",
    "optimizer = optim.SGD(model.parameters(), lr = 0.003, momentum = 0.09, weight_decay = 1e-10 )\n",
    "\n",
    "criterion = nn.NLLLoss()"
   ]
  },
  {
   "cell_type": "markdown",
   "metadata": {
    "id": "bQ36T35aZGx1"
   },
   "source": [
    "## Running your Neural Network\n",
    "Use whatever method you like to train your neural network, and ensure you record the average loss at each epoch.\n",
    "Don't forget to use `torch.device()` and the `.to()` method for both your model and your data if you are using GPU!\n",
    "\n",
    "If you want to print your loss **during** each epoch, you can use the `enumerate` function and print the loss after a set number of batches. 250 batches works well for most people!"
   ]
  },
  {
   "cell_type": "code",
   "execution_count": 10,
   "metadata": {
    "colab": {
     "base_uri": "https://localhost:8080/"
    },
    "id": "A0SlFvGfZGx1",
    "outputId": "7e42c301-0e83-45d8-ae74-b955c7d53711"
   },
   "outputs": [
    {
     "name": "stderr",
     "output_type": "stream",
     "text": [
      "Training: 100%|███████████████████████████████| 750/750 [00:10<00:00, 70.58it/s]"
     ]
    },
    {
     "name": "stdout",
     "output_type": "stream",
     "text": [
      "Epoch 1 training accuracy: 29.19% training loss: 2.24\n"
     ]
    },
    {
     "name": "stderr",
     "output_type": "stream",
     "text": [
      "\n",
      "Validating: 100%|█████████████████████████████| 188/188 [00:02<00:00, 83.31it/s]"
     ]
    },
    {
     "name": "stdout",
     "output_type": "stream",
     "text": [
      "Epoch 1 validation accuracy: 49.38% validation loss: 2.12\n"
     ]
    },
    {
     "name": "stderr",
     "output_type": "stream",
     "text": [
      "\n",
      "Training: 100%|███████████████████████████████| 750/750 [00:09<00:00, 75.53it/s]"
     ]
    },
    {
     "name": "stdout",
     "output_type": "stream",
     "text": [
      "Epoch 2 training accuracy: 56.99% training loss: 1.71\n"
     ]
    },
    {
     "name": "stderr",
     "output_type": "stream",
     "text": [
      "\n",
      "Validating: 100%|█████████████████████████████| 188/188 [00:02<00:00, 71.86it/s]"
     ]
    },
    {
     "name": "stdout",
     "output_type": "stream",
     "text": [
      "Epoch 2 validation accuracy: 71.20% validation loss: 1.18\n"
     ]
    },
    {
     "name": "stderr",
     "output_type": "stream",
     "text": [
      "\n",
      "Training: 100%|███████████████████████████████| 750/750 [00:10<00:00, 74.63it/s]"
     ]
    },
    {
     "name": "stdout",
     "output_type": "stream",
     "text": [
      "Epoch 3 training accuracy: 76.51% training loss: 0.87\n"
     ]
    },
    {
     "name": "stderr",
     "output_type": "stream",
     "text": [
      "\n",
      "Validating: 100%|█████████████████████████████| 188/188 [00:02<00:00, 73.11it/s]\n"
     ]
    },
    {
     "name": "stdout",
     "output_type": "stream",
     "text": [
      "Epoch 3 validation accuracy: 81.73% validation loss: 0.68\n"
     ]
    },
    {
     "name": "stderr",
     "output_type": "stream",
     "text": [
      "Training: 100%|███████████████████████████████| 750/750 [00:10<00:00, 71.40it/s]"
     ]
    },
    {
     "name": "stdout",
     "output_type": "stream",
     "text": [
      "Epoch 4 training accuracy: 84.01% training loss: 0.57\n"
     ]
    },
    {
     "name": "stderr",
     "output_type": "stream",
     "text": [
      "\n",
      "Validating: 100%|█████████████████████████████| 188/188 [00:02<00:00, 77.64it/s]"
     ]
    },
    {
     "name": "stdout",
     "output_type": "stream",
     "text": [
      "Epoch 4 validation accuracy: 85.28% validation loss: 0.51\n"
     ]
    },
    {
     "name": "stderr",
     "output_type": "stream",
     "text": [
      "\n",
      "Training: 100%|███████████████████████████████| 750/750 [00:10<00:00, 73.52it/s]"
     ]
    },
    {
     "name": "stdout",
     "output_type": "stream",
     "text": [
      "Epoch 5 training accuracy: 86.86% training loss: 0.46\n"
     ]
    },
    {
     "name": "stderr",
     "output_type": "stream",
     "text": [
      "\n",
      "Validating: 100%|█████████████████████████████| 188/188 [00:02<00:00, 70.57it/s]\n"
     ]
    },
    {
     "name": "stdout",
     "output_type": "stream",
     "text": [
      "Epoch 5 validation accuracy: 87.08% validation loss: 0.44\n"
     ]
    },
    {
     "name": "stderr",
     "output_type": "stream",
     "text": [
      "Training: 100%|███████████████████████████████| 750/750 [00:10<00:00, 73.30it/s]"
     ]
    },
    {
     "name": "stdout",
     "output_type": "stream",
     "text": [
      "Epoch 6 training accuracy: 88.27% training loss: 0.41\n"
     ]
    },
    {
     "name": "stderr",
     "output_type": "stream",
     "text": [
      "\n",
      "Validating: 100%|█████████████████████████████| 188/188 [00:02<00:00, 73.71it/s]"
     ]
    },
    {
     "name": "stdout",
     "output_type": "stream",
     "text": [
      "Epoch 6 validation accuracy: 88.09% validation loss: 0.41\n"
     ]
    },
    {
     "name": "stderr",
     "output_type": "stream",
     "text": [
      "\n",
      "Training: 100%|███████████████████████████████| 750/750 [00:10<00:00, 69.06it/s]"
     ]
    },
    {
     "name": "stdout",
     "output_type": "stream",
     "text": [
      "Epoch 7 training accuracy: 89.29% training loss: 0.38\n"
     ]
    },
    {
     "name": "stderr",
     "output_type": "stream",
     "text": [
      "\n",
      "Validating: 100%|█████████████████████████████| 188/188 [00:02<00:00, 73.97it/s]"
     ]
    },
    {
     "name": "stdout",
     "output_type": "stream",
     "text": [
      "Epoch 7 validation accuracy: 88.83% validation loss: 0.38\n"
     ]
    },
    {
     "name": "stderr",
     "output_type": "stream",
     "text": [
      "\n",
      "Training: 100%|███████████████████████████████| 750/750 [00:10<00:00, 69.99it/s]"
     ]
    },
    {
     "name": "stdout",
     "output_type": "stream",
     "text": [
      "Epoch 8 training accuracy: 89.92% training loss: 0.35\n"
     ]
    },
    {
     "name": "stderr",
     "output_type": "stream",
     "text": [
      "\n",
      "Validating: 100%|█████████████████████████████| 188/188 [00:02<00:00, 71.11it/s]"
     ]
    },
    {
     "name": "stdout",
     "output_type": "stream",
     "text": [
      "Epoch 8 validation accuracy: 89.50% validation loss: 0.36\n"
     ]
    },
    {
     "name": "stderr",
     "output_type": "stream",
     "text": [
      "\n",
      "Training: 100%|███████████████████████████████| 750/750 [00:11<00:00, 67.81it/s]"
     ]
    },
    {
     "name": "stdout",
     "output_type": "stream",
     "text": [
      "Epoch 9 training accuracy: 90.38% training loss: 0.33\n"
     ]
    },
    {
     "name": "stderr",
     "output_type": "stream",
     "text": [
      "\n",
      "Validating: 100%|█████████████████████████████| 188/188 [00:02<00:00, 78.29it/s]"
     ]
    },
    {
     "name": "stdout",
     "output_type": "stream",
     "text": [
      "Epoch 9 validation accuracy: 89.89% validation loss: 0.35\n"
     ]
    },
    {
     "name": "stderr",
     "output_type": "stream",
     "text": [
      "\n",
      "Training: 100%|███████████████████████████████| 750/750 [00:10<00:00, 71.84it/s]"
     ]
    },
    {
     "name": "stdout",
     "output_type": "stream",
     "text": [
      "Epoch 10 training accuracy: 90.80% training loss: 0.32\n"
     ]
    },
    {
     "name": "stderr",
     "output_type": "stream",
     "text": [
      "\n",
      "Validating: 100%|█████████████████████████████| 188/188 [00:02<00:00, 71.96it/s]"
     ]
    },
    {
     "name": "stdout",
     "output_type": "stream",
     "text": [
      "Epoch 10 validation accuracy: 90.28% validation loss: 0.34\n"
     ]
    },
    {
     "name": "stderr",
     "output_type": "stream",
     "text": [
      "\n",
      "Training: 100%|███████████████████████████████| 750/750 [00:10<00:00, 73.21it/s]"
     ]
    },
    {
     "name": "stdout",
     "output_type": "stream",
     "text": [
      "Epoch 11 training accuracy: 91.14% training loss: 0.31\n"
     ]
    },
    {
     "name": "stderr",
     "output_type": "stream",
     "text": [
      "\n",
      "Validating: 100%|█████████████████████████████| 188/188 [00:02<00:00, 66.15it/s]"
     ]
    },
    {
     "name": "stdout",
     "output_type": "stream",
     "text": [
      "Epoch 11 validation accuracy: 90.72% validation loss: 0.32\n"
     ]
    },
    {
     "name": "stderr",
     "output_type": "stream",
     "text": [
      "\n",
      "Training: 100%|███████████████████████████████| 750/750 [00:11<00:00, 68.12it/s]"
     ]
    },
    {
     "name": "stdout",
     "output_type": "stream",
     "text": [
      "Epoch 12 training accuracy: 91.41% training loss: 0.30\n"
     ]
    },
    {
     "name": "stderr",
     "output_type": "stream",
     "text": [
      "\n",
      "Validating: 100%|█████████████████████████████| 188/188 [00:02<00:00, 72.00it/s]\n"
     ]
    },
    {
     "name": "stdout",
     "output_type": "stream",
     "text": [
      "Epoch 12 validation accuracy: 90.99% validation loss: 0.31\n"
     ]
    },
    {
     "name": "stderr",
     "output_type": "stream",
     "text": [
      "Training: 100%|███████████████████████████████| 750/750 [00:10<00:00, 68.73it/s]"
     ]
    },
    {
     "name": "stdout",
     "output_type": "stream",
     "text": [
      "Epoch 13 training accuracy: 91.63% training loss: 0.29\n"
     ]
    },
    {
     "name": "stderr",
     "output_type": "stream",
     "text": [
      "\n",
      "Validating: 100%|█████████████████████████████| 188/188 [00:02<00:00, 67.14it/s]"
     ]
    },
    {
     "name": "stdout",
     "output_type": "stream",
     "text": [
      "Epoch 13 validation accuracy: 91.16% validation loss: 0.31\n"
     ]
    },
    {
     "name": "stderr",
     "output_type": "stream",
     "text": [
      "\n",
      "Training: 100%|███████████████████████████████| 750/750 [00:11<00:00, 67.92it/s]"
     ]
    },
    {
     "name": "stdout",
     "output_type": "stream",
     "text": [
      "Epoch 14 training accuracy: 91.96% training loss: 0.28\n"
     ]
    },
    {
     "name": "stderr",
     "output_type": "stream",
     "text": [
      "\n",
      "Validating: 100%|█████████████████████████████| 188/188 [00:02<00:00, 68.30it/s]"
     ]
    },
    {
     "name": "stdout",
     "output_type": "stream",
     "text": [
      "Epoch 14 validation accuracy: 91.30% validation loss: 0.30\n"
     ]
    },
    {
     "name": "stderr",
     "output_type": "stream",
     "text": [
      "\n",
      "Training: 100%|███████████████████████████████| 750/750 [00:11<00:00, 63.56it/s]"
     ]
    },
    {
     "name": "stdout",
     "output_type": "stream",
     "text": [
      "Epoch 15 training accuracy: 92.10% training loss: 0.27\n"
     ]
    },
    {
     "name": "stderr",
     "output_type": "stream",
     "text": [
      "\n",
      "Validating: 100%|█████████████████████████████| 188/188 [00:02<00:00, 69.53it/s]"
     ]
    },
    {
     "name": "stdout",
     "output_type": "stream",
     "text": [
      "Epoch 15 validation accuracy: 91.58% validation loss: 0.29\n"
     ]
    },
    {
     "name": "stderr",
     "output_type": "stream",
     "text": [
      "\n",
      "Training: 100%|███████████████████████████████| 750/750 [00:11<00:00, 68.10it/s]"
     ]
    },
    {
     "name": "stdout",
     "output_type": "stream",
     "text": [
      "Epoch 16 training accuracy: 92.35% training loss: 0.26\n"
     ]
    },
    {
     "name": "stderr",
     "output_type": "stream",
     "text": [
      "\n",
      "Validating: 100%|█████████████████████████████| 188/188 [00:02<00:00, 69.25it/s]"
     ]
    },
    {
     "name": "stdout",
     "output_type": "stream",
     "text": [
      "Epoch 16 validation accuracy: 91.85% validation loss: 0.28\n"
     ]
    },
    {
     "name": "stderr",
     "output_type": "stream",
     "text": [
      "\n",
      "Training: 100%|███████████████████████████████| 750/750 [00:11<00:00, 66.78it/s]"
     ]
    },
    {
     "name": "stdout",
     "output_type": "stream",
     "text": [
      "Epoch 17 training accuracy: 92.60% training loss: 0.25\n"
     ]
    },
    {
     "name": "stderr",
     "output_type": "stream",
     "text": [
      "\n",
      "Validating: 100%|█████████████████████████████| 188/188 [00:02<00:00, 71.69it/s]"
     ]
    },
    {
     "name": "stdout",
     "output_type": "stream",
     "text": [
      "Epoch 17 validation accuracy: 91.91% validation loss: 0.28\n"
     ]
    },
    {
     "name": "stderr",
     "output_type": "stream",
     "text": [
      "\n",
      "Training: 100%|███████████████████████████████| 750/750 [00:11<00:00, 67.88it/s]"
     ]
    },
    {
     "name": "stdout",
     "output_type": "stream",
     "text": [
      "Epoch 18 training accuracy: 92.78% training loss: 0.25\n"
     ]
    },
    {
     "name": "stderr",
     "output_type": "stream",
     "text": [
      "\n",
      "Validating: 100%|█████████████████████████████| 188/188 [00:02<00:00, 67.99it/s]"
     ]
    },
    {
     "name": "stdout",
     "output_type": "stream",
     "text": [
      "Epoch 18 validation accuracy: 92.00% validation loss: 0.27\n"
     ]
    },
    {
     "name": "stderr",
     "output_type": "stream",
     "text": [
      "\n",
      "Training: 100%|███████████████████████████████| 750/750 [00:11<00:00, 65.60it/s]\n"
     ]
    },
    {
     "name": "stdout",
     "output_type": "stream",
     "text": [
      "Epoch 19 training accuracy: 92.98% training loss: 0.24\n"
     ]
    },
    {
     "name": "stderr",
     "output_type": "stream",
     "text": [
      "Validating: 100%|█████████████████████████████| 188/188 [00:02<00:00, 68.64it/s]"
     ]
    },
    {
     "name": "stdout",
     "output_type": "stream",
     "text": [
      "Epoch 19 validation accuracy: 92.46% validation loss: 0.27\n"
     ]
    },
    {
     "name": "stderr",
     "output_type": "stream",
     "text": [
      "\n",
      "Training: 100%|███████████████████████████████| 750/750 [00:10<00:00, 68.45it/s]"
     ]
    },
    {
     "name": "stdout",
     "output_type": "stream",
     "text": [
      "Epoch 20 training accuracy: 93.27% training loss: 0.23\n"
     ]
    },
    {
     "name": "stderr",
     "output_type": "stream",
     "text": [
      "\n",
      "Validating: 100%|█████████████████████████████| 188/188 [00:02<00:00, 69.34it/s]"
     ]
    },
    {
     "name": "stdout",
     "output_type": "stream",
     "text": [
      "Epoch 20 validation accuracy: 92.40% validation loss: 0.26\n"
     ]
    },
    {
     "name": "stderr",
     "output_type": "stream",
     "text": [
      "\n",
      "Training: 100%|███████████████████████████████| 750/750 [00:11<00:00, 67.44it/s]"
     ]
    },
    {
     "name": "stdout",
     "output_type": "stream",
     "text": [
      "Epoch 21 training accuracy: 93.33% training loss: 0.23\n"
     ]
    },
    {
     "name": "stderr",
     "output_type": "stream",
     "text": [
      "\n",
      "Validating: 100%|█████████████████████████████| 188/188 [00:02<00:00, 71.45it/s]\n"
     ]
    },
    {
     "name": "stdout",
     "output_type": "stream",
     "text": [
      "Epoch 21 validation accuracy: 92.69% validation loss: 0.25\n"
     ]
    },
    {
     "name": "stderr",
     "output_type": "stream",
     "text": [
      "Training: 100%|███████████████████████████████| 750/750 [00:10<00:00, 69.17it/s]"
     ]
    },
    {
     "name": "stdout",
     "output_type": "stream",
     "text": [
      "Epoch 22 training accuracy: 93.55% training loss: 0.22\n"
     ]
    },
    {
     "name": "stderr",
     "output_type": "stream",
     "text": [
      "\n",
      "Validating: 100%|█████████████████████████████| 188/188 [00:02<00:00, 69.05it/s]"
     ]
    },
    {
     "name": "stdout",
     "output_type": "stream",
     "text": [
      "Epoch 22 validation accuracy: 93.02% validation loss: 0.25\n"
     ]
    },
    {
     "name": "stderr",
     "output_type": "stream",
     "text": [
      "\n",
      "Training: 100%|███████████████████████████████| 750/750 [00:11<00:00, 66.21it/s]"
     ]
    },
    {
     "name": "stdout",
     "output_type": "stream",
     "text": [
      "Epoch 23 training accuracy: 93.75% training loss: 0.21\n"
     ]
    },
    {
     "name": "stderr",
     "output_type": "stream",
     "text": [
      "\n",
      "Validating: 100%|█████████████████████████████| 188/188 [00:02<00:00, 71.20it/s]"
     ]
    },
    {
     "name": "stdout",
     "output_type": "stream",
     "text": [
      "Epoch 23 validation accuracy: 93.08% validation loss: 0.24\n"
     ]
    },
    {
     "name": "stderr",
     "output_type": "stream",
     "text": [
      "\n",
      "Training: 100%|███████████████████████████████| 750/750 [00:11<00:00, 66.83it/s]"
     ]
    },
    {
     "name": "stdout",
     "output_type": "stream",
     "text": [
      "Epoch 24 training accuracy: 93.93% training loss: 0.21\n"
     ]
    },
    {
     "name": "stderr",
     "output_type": "stream",
     "text": [
      "\n",
      "Validating: 100%|█████████████████████████████| 188/188 [00:02<00:00, 69.14it/s]"
     ]
    },
    {
     "name": "stdout",
     "output_type": "stream",
     "text": [
      "Epoch 24 validation accuracy: 93.10% validation loss: 0.24\n"
     ]
    },
    {
     "name": "stderr",
     "output_type": "stream",
     "text": [
      "\n",
      "Training: 100%|███████████████████████████████| 750/750 [00:11<00:00, 67.91it/s]"
     ]
    },
    {
     "name": "stdout",
     "output_type": "stream",
     "text": [
      "Epoch 25 training accuracy: 94.12% training loss: 0.20\n"
     ]
    },
    {
     "name": "stderr",
     "output_type": "stream",
     "text": [
      "\n",
      "Validating: 100%|█████████████████████████████| 188/188 [00:02<00:00, 69.23it/s]"
     ]
    },
    {
     "name": "stdout",
     "output_type": "stream",
     "text": [
      "Epoch 25 validation accuracy: 93.41% validation loss: 0.23\n"
     ]
    },
    {
     "name": "stderr",
     "output_type": "stream",
     "text": [
      "\n",
      "Training: 100%|███████████████████████████████| 750/750 [00:10<00:00, 69.48it/s]"
     ]
    },
    {
     "name": "stdout",
     "output_type": "stream",
     "text": [
      "Epoch 26 training accuracy: 94.24% training loss: 0.20\n"
     ]
    },
    {
     "name": "stderr",
     "output_type": "stream",
     "text": [
      "\n",
      "Validating: 100%|█████████████████████████████| 188/188 [00:02<00:00, 74.96it/s]"
     ]
    },
    {
     "name": "stdout",
     "output_type": "stream",
     "text": [
      "Epoch 26 validation accuracy: 93.43% validation loss: 0.22\n"
     ]
    },
    {
     "name": "stderr",
     "output_type": "stream",
     "text": [
      "\n",
      "Training: 100%|███████████████████████████████| 750/750 [00:10<00:00, 70.61it/s]"
     ]
    },
    {
     "name": "stdout",
     "output_type": "stream",
     "text": [
      "Epoch 27 training accuracy: 94.40% training loss: 0.19\n"
     ]
    },
    {
     "name": "stderr",
     "output_type": "stream",
     "text": [
      "\n",
      "Validating: 100%|█████████████████████████████| 188/188 [00:02<00:00, 73.58it/s]"
     ]
    },
    {
     "name": "stdout",
     "output_type": "stream",
     "text": [
      "Epoch 27 validation accuracy: 93.66% validation loss: 0.22\n"
     ]
    },
    {
     "name": "stderr",
     "output_type": "stream",
     "text": [
      "\n",
      "Training: 100%|███████████████████████████████| 750/750 [00:10<00:00, 70.50it/s]\n"
     ]
    },
    {
     "name": "stdout",
     "output_type": "stream",
     "text": [
      "Epoch 28 training accuracy: 94.59% training loss: 0.19\n"
     ]
    },
    {
     "name": "stderr",
     "output_type": "stream",
     "text": [
      "Validating: 100%|█████████████████████████████| 188/188 [00:02<00:00, 69.68it/s]\n"
     ]
    },
    {
     "name": "stdout",
     "output_type": "stream",
     "text": [
      "Epoch 28 validation accuracy: 93.77% validation loss: 0.21\n"
     ]
    },
    {
     "name": "stderr",
     "output_type": "stream",
     "text": [
      "Training: 100%|███████████████████████████████| 750/750 [00:10<00:00, 70.48it/s]"
     ]
    },
    {
     "name": "stdout",
     "output_type": "stream",
     "text": [
      "Epoch 29 training accuracy: 94.75% training loss: 0.18\n"
     ]
    },
    {
     "name": "stderr",
     "output_type": "stream",
     "text": [
      "\n",
      "Validating: 100%|█████████████████████████████| 188/188 [00:02<00:00, 71.44it/s]"
     ]
    },
    {
     "name": "stdout",
     "output_type": "stream",
     "text": [
      "Epoch 29 validation accuracy: 93.75% validation loss: 0.21\n"
     ]
    },
    {
     "name": "stderr",
     "output_type": "stream",
     "text": [
      "\n",
      "Training: 100%|███████████████████████████████| 750/750 [00:10<00:00, 74.72it/s]"
     ]
    },
    {
     "name": "stdout",
     "output_type": "stream",
     "text": [
      "Epoch 30 training accuracy: 94.92% training loss: 0.18\n"
     ]
    },
    {
     "name": "stderr",
     "output_type": "stream",
     "text": [
      "\n",
      "Validating: 100%|█████████████████████████████| 188/188 [00:02<00:00, 71.78it/s]"
     ]
    },
    {
     "name": "stdout",
     "output_type": "stream",
     "text": [
      "Epoch 30 validation accuracy: 93.87% validation loss: 0.21\n"
     ]
    },
    {
     "name": "stderr",
     "output_type": "stream",
     "text": [
      "\n"
     ]
    }
   ],
   "source": [
    "device = torch.device(\"cuda\" if torch.cuda.is_available() else \"cpu\")\n",
    "model.to(device)\n",
    "\n",
    "epochs = 30\n",
    "train_loss_history = []\n",
    "best_val_loss = float(\"inf\")\n",
    "thresh= 0.001\n",
    "below_threshold = 0\n",
    "patience = 2\n",
    "\n",
    "for epoch in range(epochs):\n",
    "    model.train()\n",
    "    train_loss = 0\n",
    "    train_correct = 0\n",
    "\n",
    "    for batch_idx, (data, labels) in tqdm(enumerate(training_dataloader), desc = \"Training\", total = len(training_dataloader), leave = True, ncols=80):\n",
    "\n",
    "\n",
    "        data, labels = data.to(device), labels.to(device)\n",
    "        optimizer.zero_grad()\n",
    "\n",
    "        input = data.view(data.size(0), -1)\n",
    "\n",
    "\n",
    "\n",
    "        outputs = model(input)\n",
    "        loss = criterion(outputs, labels)\n",
    "\n",
    "        loss.backward()\n",
    "\n",
    "        optimizer.step()\n",
    "        \n",
    "        train_loss += loss.item()\n",
    "        \n",
    "        ps = torch.exp(outputs)\n",
    "        top_ps, top_class = ps.topk(1, dim=1)\n",
    "        equality = top_class == labels.view(*top_class.shape)\n",
    "        train_correct += torch.mean(equality.type(torch.FloatTensor))\n",
    "        \n",
    "    print(\"Epoch {} training accuracy: {:.2f}% training loss: {:.2f}\".format(epoch + 1, (train_correct/len(training_dataloader))*100, (train_loss/len(training_dataloader))))\n",
    "    train_loss_history.append(train_loss/len(training_dataloader))\n",
    "\n",
    "    with torch.no_grad():\n",
    "      val_loss = 0.0\n",
    "      val_correct = 0\n",
    "      val_loss_history = []\n",
    "\n",
    "      model.eval()\n",
    "      for batch_idx, (inputs, labels) in tqdm(enumerate(val_dataloader), desc = \"Validating\", total = len(val_dataloader), leave = True, ncols=80):\n",
    "        \n",
    "        inputs, labels = inputs.to(device), labels.to(device)\n",
    "        \n",
    "        v_output = model(inputs)\n",
    "        v_loss = criterion(v_output, labels)\n",
    "        val_loss += v_loss\n",
    "        \n",
    "        ps = torch.exp(v_output)\n",
    "        top_ps, top_class = ps.topk(1, dim=1)\n",
    "        equality = top_class == labels.view(*top_class.shape)\n",
    "        val_correct += torch.mean(equality.type(torch.FloatTensor))\n",
    "           \n",
    "      print(\"Epoch {} validation accuracy: {:.2f}% validation loss: {:.2f}\".format(epoch + 1, (val_correct/len(val_dataloader))*100, (val_loss/len(val_dataloader))))\n",
    "      val_loss_history.append(val_loss/len(val_dataloader))\n",
    "      diff = best_val_loss - val_loss\n",
    "      if best_val_loss > val_loss:\n",
    "        best_val_loss = val_loss\n",
    "\n",
    "    if diff <= thresh:\n",
    "      below_threshold += 1\n",
    "      if below_threshold >= patience:\n",
    "        break\n"
   ]
  },
  {
   "cell_type": "markdown",
   "metadata": {
    "id": "eCkDwPWsZGx2"
   },
   "source": [
    "Plot the training loss (and validation loss/accuracy, if recorded)."
   ]
  },
  {
   "cell_type": "code",
   "execution_count": 11,
   "metadata": {
    "colab": {
     "base_uri": "https://localhost:8080/",
     "height": 430
    },
    "id": "-SLFnbIYZGx2",
    "outputId": "98764dbe-ea34-4424-fb83-5d762602d5bd"
   },
   "outputs": [
    {
     "data": {
      "image/png": "[encoded data removed]",
      "text/plain": [
       "<Figure size 432x288 with 1 Axes>"
      ]
     },
     "metadata": {
      "needs_background": "light"
     },
     "output_type": "display_data"
    }
   ],
   "source": [
    "## YOUR CODE HERE ##\n",
    "# Plot the training and validation loss history\n",
    "plt.plot(train_loss_history, label=\"Training Loss\")\n",
    "plt.plot(val_loss_history, label=\"Validation Loss\")\n",
    "plt.legend()\n",
    "plt.show()"
   ]
  },
  {
   "cell_type": "markdown",
   "metadata": {
    "id": "65g0FuAOZGx2"
   },
   "source": [
    "## Testing your model\n",
    "Using the previously created `DataLoader` for the test set, compute the percentage of correct predictions using the highest probability prediction.\n",
    "\n",
    "If your accuracy is over 90%, great work, but see if you can push a bit further!\n",
    "If your accuracy is under 90%, you'll need to make improvements.\n",
    "Go back and check your model architecture, loss function, and optimizer to make sure they're appropriate for an image classification task."
   ]
  },
  {
   "cell_type": "code",
   "execution_count": 12,
   "metadata": {
    "id": "Ily23xb8ZGx2"
   },
   "outputs": [
    {
     "name": "stdout",
     "output_type": "stream",
     "text": [
      "test accuracy: 94.58% test loss: 18.56%\n"
     ]
    }
   ],
   "source": [
    "# Initialize lists to monitor test loss and accuracy\n",
    "test_loss = 0.0\n",
    "test_correct = 0.0\n",
    "\n",
    "# evaluation mode\n",
    "model.eval()\n",
    "\n",
    "for i, data in enumerate(test_dataloader):\n",
    "    inputs, labels = data\n",
    "    \n",
    "    #forward pass\n",
    "    output = model(inputs)\n",
    "    \n",
    "    #calculate the loss\n",
    "    loss = criterion(output, labels)\n",
    "    \n",
    "    test_loss += loss.item()\n",
    "    ps = torch.exp(output)\n",
    "    top_ps, top_class = ps.topk(1, dim=1)\n",
    "    equality = top_class == labels.view(*top_class.shape)\n",
    "    test_correct += torch.mean(equality.type(torch.FloatTensor))\n",
    "\n",
    "print(\"test accuracy: {:.2f}% test loss: {:.2f}%\".format((test_correct/len(test_dataloader))*100, (test_loss/len(test_dataloader))*100))"
   ]
  },
  {
   "cell_type": "markdown",
   "metadata": {
    "id": "EhE3a85BZGx2"
   },
   "source": [
    "## Improving your model\n",
    "\n",
    "Once your model is done training, try tweaking your hyperparameters and training again below to improve your accuracy on the test set!"
   ]
  },
  {
   "cell_type": "code",
   "execution_count": 13,
   "metadata": {},
   "outputs": [],
   "source": [
    "optimizer = optim.SGD(model.parameters(), lr = 0.001, momentum = 0.09, weight_decay = 1e-5 )\n",
    "\n",
    "criterion = nn.NLLLoss()"
   ]
  },
  {
   "cell_type": "code",
   "execution_count": 14,
   "metadata": {},
   "outputs": [
    {
     "name": "stderr",
     "output_type": "stream",
     "text": [
      "Training: 100%|███████████████████████████████| 750/750 [00:10<00:00, 69.36it/s]"
     ]
    },
    {
     "name": "stdout",
     "output_type": "stream",
     "text": [
      "Epoch 1 training accuracy: 95.14% training loss: 0.17\n"
     ]
    },
    {
     "name": "stderr",
     "output_type": "stream",
     "text": [
      "\n",
      "Validating: 100%|█████████████████████████████| 188/188 [00:02<00:00, 71.23it/s]"
     ]
    },
    {
     "name": "stdout",
     "output_type": "stream",
     "text": [
      "Epoch 1 validation accuracy: 94.01% validation loss: 0.20\n"
     ]
    },
    {
     "name": "stderr",
     "output_type": "stream",
     "text": [
      "\n",
      "Training: 100%|███████████████████████████████| 750/750 [00:11<00:00, 66.10it/s]"
     ]
    },
    {
     "name": "stdout",
     "output_type": "stream",
     "text": [
      "Epoch 2 training accuracy: 95.20% training loss: 0.17\n"
     ]
    },
    {
     "name": "stderr",
     "output_type": "stream",
     "text": [
      "\n",
      "Validating: 100%|█████████████████████████████| 188/188 [00:02<00:00, 73.95it/s]"
     ]
    },
    {
     "name": "stdout",
     "output_type": "stream",
     "text": [
      "Epoch 2 validation accuracy: 93.97% validation loss: 0.20\n"
     ]
    },
    {
     "name": "stderr",
     "output_type": "stream",
     "text": [
      "\n",
      "Training: 100%|███████████████████████████████| 750/750 [00:09<00:00, 75.56it/s]"
     ]
    },
    {
     "name": "stdout",
     "output_type": "stream",
     "text": [
      "Epoch 3 training accuracy: 95.19% training loss: 0.17\n"
     ]
    },
    {
     "name": "stderr",
     "output_type": "stream",
     "text": [
      "\n",
      "Validating: 100%|█████████████████████████████| 188/188 [00:02<00:00, 64.13it/s]"
     ]
    },
    {
     "name": "stdout",
     "output_type": "stream",
     "text": [
      "Epoch 3 validation accuracy: 94.17% validation loss: 0.20\n"
     ]
    },
    {
     "name": "stderr",
     "output_type": "stream",
     "text": [
      "\n",
      "Training: 100%|███████████████████████████████| 750/750 [00:11<00:00, 67.34it/s]"
     ]
    },
    {
     "name": "stdout",
     "output_type": "stream",
     "text": [
      "Epoch 4 training accuracy: 95.31% training loss: 0.16\n"
     ]
    },
    {
     "name": "stderr",
     "output_type": "stream",
     "text": [
      "\n",
      "Validating: 100%|█████████████████████████████| 188/188 [00:02<00:00, 74.78it/s]\n"
     ]
    },
    {
     "name": "stdout",
     "output_type": "stream",
     "text": [
      "Epoch 4 validation accuracy: 94.18% validation loss: 0.20\n"
     ]
    },
    {
     "name": "stderr",
     "output_type": "stream",
     "text": [
      "Training: 100%|███████████████████████████████| 750/750 [00:11<00:00, 68.02it/s]"
     ]
    },
    {
     "name": "stdout",
     "output_type": "stream",
     "text": [
      "Epoch 5 training accuracy: 95.34% training loss: 0.16\n"
     ]
    },
    {
     "name": "stderr",
     "output_type": "stream",
     "text": [
      "\n",
      "Validating: 100%|█████████████████████████████| 188/188 [00:02<00:00, 74.90it/s]"
     ]
    },
    {
     "name": "stdout",
     "output_type": "stream",
     "text": [
      "Epoch 5 validation accuracy: 94.07% validation loss: 0.20\n"
     ]
    },
    {
     "name": "stderr",
     "output_type": "stream",
     "text": [
      "\n",
      "Training: 100%|███████████████████████████████| 750/750 [00:10<00:00, 73.95it/s]"
     ]
    },
    {
     "name": "stdout",
     "output_type": "stream",
     "text": [
      "Epoch 6 training accuracy: 95.39% training loss: 0.16\n"
     ]
    },
    {
     "name": "stderr",
     "output_type": "stream",
     "text": [
      "\n",
      "Validating: 100%|█████████████████████████████| 188/188 [00:02<00:00, 79.79it/s]\n"
     ]
    },
    {
     "name": "stdout",
     "output_type": "stream",
     "text": [
      "Epoch 6 validation accuracy: 94.22% validation loss: 0.19\n"
     ]
    },
    {
     "name": "stderr",
     "output_type": "stream",
     "text": [
      "Training: 100%|███████████████████████████████| 750/750 [00:10<00:00, 73.98it/s]"
     ]
    },
    {
     "name": "stdout",
     "output_type": "stream",
     "text": [
      "Epoch 7 training accuracy: 95.41% training loss: 0.16\n"
     ]
    },
    {
     "name": "stderr",
     "output_type": "stream",
     "text": [
      "\n",
      "Validating: 100%|█████████████████████████████| 188/188 [00:02<00:00, 74.04it/s]"
     ]
    },
    {
     "name": "stdout",
     "output_type": "stream",
     "text": [
      "Epoch 7 validation accuracy: 94.23% validation loss: 0.19\n"
     ]
    },
    {
     "name": "stderr",
     "output_type": "stream",
     "text": [
      "\n",
      "Training: 100%|███████████████████████████████| 750/750 [00:10<00:00, 74.06it/s]"
     ]
    },
    {
     "name": "stdout",
     "output_type": "stream",
     "text": [
      "Epoch 8 training accuracy: 95.47% training loss: 0.16\n"
     ]
    },
    {
     "name": "stderr",
     "output_type": "stream",
     "text": [
      "\n",
      "Validating: 100%|█████████████████████████████| 188/188 [00:02<00:00, 74.85it/s]\n"
     ]
    },
    {
     "name": "stdout",
     "output_type": "stream",
     "text": [
      "Epoch 8 validation accuracy: 94.18% validation loss: 0.19\n"
     ]
    },
    {
     "name": "stderr",
     "output_type": "stream",
     "text": [
      "Training: 100%|███████████████████████████████| 750/750 [00:10<00:00, 74.12it/s]"
     ]
    },
    {
     "name": "stdout",
     "output_type": "stream",
     "text": [
      "Epoch 9 training accuracy: 95.55% training loss: 0.16\n"
     ]
    },
    {
     "name": "stderr",
     "output_type": "stream",
     "text": [
      "\n",
      "Validating: 100%|█████████████████████████████| 188/188 [00:02<00:00, 79.80it/s]"
     ]
    },
    {
     "name": "stdout",
     "output_type": "stream",
     "text": [
      "Epoch 9 validation accuracy: 94.20% validation loss: 0.19\n"
     ]
    },
    {
     "name": "stderr",
     "output_type": "stream",
     "text": [
      "\n",
      "Training: 100%|███████████████████████████████| 750/750 [00:11<00:00, 68.15it/s]"
     ]
    },
    {
     "name": "stdout",
     "output_type": "stream",
     "text": [
      "Epoch 10 training accuracy: 95.54% training loss: 0.15\n"
     ]
    },
    {
     "name": "stderr",
     "output_type": "stream",
     "text": [
      "\n",
      "Validating: 100%|█████████████████████████████| 188/188 [00:02<00:00, 76.55it/s]"
     ]
    },
    {
     "name": "stdout",
     "output_type": "stream",
     "text": [
      "Epoch 10 validation accuracy: 94.44% validation loss: 0.19\n"
     ]
    },
    {
     "name": "stderr",
     "output_type": "stream",
     "text": [
      "\n",
      "Training: 100%|███████████████████████████████| 750/750 [00:10<00:00, 74.07it/s]"
     ]
    },
    {
     "name": "stdout",
     "output_type": "stream",
     "text": [
      "Epoch 11 training accuracy: 95.66% training loss: 0.15\n"
     ]
    },
    {
     "name": "stderr",
     "output_type": "stream",
     "text": [
      "\n",
      "Validating: 100%|█████████████████████████████| 188/188 [00:02<00:00, 68.70it/s]"
     ]
    },
    {
     "name": "stdout",
     "output_type": "stream",
     "text": [
      "Epoch 11 validation accuracy: 94.37% validation loss: 0.19\n"
     ]
    },
    {
     "name": "stderr",
     "output_type": "stream",
     "text": [
      "\n",
      "Training: 100%|███████████████████████████████| 750/750 [00:10<00:00, 69.26it/s]"
     ]
    },
    {
     "name": "stdout",
     "output_type": "stream",
     "text": [
      "Epoch 12 training accuracy: 95.63% training loss: 0.15\n"
     ]
    },
    {
     "name": "stderr",
     "output_type": "stream",
     "text": [
      "\n",
      "Validating: 100%|█████████████████████████████| 188/188 [00:02<00:00, 73.71it/s]"
     ]
    },
    {
     "name": "stdout",
     "output_type": "stream",
     "text": [
      "Epoch 12 validation accuracy: 94.43% validation loss: 0.19\n"
     ]
    },
    {
     "name": "stderr",
     "output_type": "stream",
     "text": [
      "\n",
      "Training: 100%|███████████████████████████████| 750/750 [00:09<00:00, 75.79it/s]"
     ]
    },
    {
     "name": "stdout",
     "output_type": "stream",
     "text": [
      "Epoch 13 training accuracy: 95.72% training loss: 0.15\n"
     ]
    },
    {
     "name": "stderr",
     "output_type": "stream",
     "text": [
      "\n",
      "Validating: 100%|█████████████████████████████| 188/188 [00:02<00:00, 71.18it/s]"
     ]
    },
    {
     "name": "stdout",
     "output_type": "stream",
     "text": [
      "Epoch 13 validation accuracy: 94.51% validation loss: 0.18\n"
     ]
    },
    {
     "name": "stderr",
     "output_type": "stream",
     "text": [
      "\n",
      "Training: 100%|███████████████████████████████| 750/750 [00:09<00:00, 76.92it/s]"
     ]
    },
    {
     "name": "stdout",
     "output_type": "stream",
     "text": [
      "Epoch 14 training accuracy: 95.72% training loss: 0.15\n"
     ]
    },
    {
     "name": "stderr",
     "output_type": "stream",
     "text": [
      "\n",
      "Validating: 100%|█████████████████████████████| 188/188 [00:02<00:00, 62.99it/s]"
     ]
    },
    {
     "name": "stdout",
     "output_type": "stream",
     "text": [
      "Epoch 14 validation accuracy: 94.43% validation loss: 0.18\n"
     ]
    },
    {
     "name": "stderr",
     "output_type": "stream",
     "text": [
      "\n",
      "Training: 100%|███████████████████████████████| 750/750 [00:11<00:00, 67.39it/s]\n"
     ]
    },
    {
     "name": "stdout",
     "output_type": "stream",
     "text": [
      "Epoch 15 training accuracy: 95.76% training loss: 0.15\n"
     ]
    },
    {
     "name": "stderr",
     "output_type": "stream",
     "text": [
      "Validating: 100%|█████████████████████████████| 188/188 [00:02<00:00, 77.38it/s]"
     ]
    },
    {
     "name": "stdout",
     "output_type": "stream",
     "text": [
      "Epoch 15 validation accuracy: 94.56% validation loss: 0.18\n"
     ]
    },
    {
     "name": "stderr",
     "output_type": "stream",
     "text": [
      "\n",
      "Training: 100%|███████████████████████████████| 750/750 [00:10<00:00, 71.88it/s]\n"
     ]
    },
    {
     "name": "stdout",
     "output_type": "stream",
     "text": [
      "Epoch 16 training accuracy: 95.79% training loss: 0.15\n"
     ]
    },
    {
     "name": "stderr",
     "output_type": "stream",
     "text": [
      "Validating: 100%|█████████████████████████████| 188/188 [00:02<00:00, 69.85it/s]"
     ]
    },
    {
     "name": "stdout",
     "output_type": "stream",
     "text": [
      "Epoch 16 validation accuracy: 94.46% validation loss: 0.18\n"
     ]
    },
    {
     "name": "stderr",
     "output_type": "stream",
     "text": [
      "\n",
      "Training: 100%|███████████████████████████████| 750/750 [00:10<00:00, 73.24it/s]"
     ]
    },
    {
     "name": "stdout",
     "output_type": "stream",
     "text": [
      "Epoch 17 training accuracy: 95.85% training loss: 0.14\n"
     ]
    },
    {
     "name": "stderr",
     "output_type": "stream",
     "text": [
      "\n",
      "Validating: 100%|█████████████████████████████| 188/188 [00:02<00:00, 71.44it/s]"
     ]
    },
    {
     "name": "stdout",
     "output_type": "stream",
     "text": [
      "Epoch 17 validation accuracy: 94.59% validation loss: 0.18\n"
     ]
    },
    {
     "name": "stderr",
     "output_type": "stream",
     "text": [
      "\n",
      "Training: 100%|███████████████████████████████| 750/750 [00:10<00:00, 70.14it/s]"
     ]
    },
    {
     "name": "stdout",
     "output_type": "stream",
     "text": [
      "Epoch 18 training accuracy: 95.87% training loss: 0.14\n"
     ]
    },
    {
     "name": "stderr",
     "output_type": "stream",
     "text": [
      "\n",
      "Validating: 100%|█████████████████████████████| 188/188 [00:02<00:00, 74.56it/s]"
     ]
    },
    {
     "name": "stdout",
     "output_type": "stream",
     "text": [
      "Epoch 18 validation accuracy: 94.63% validation loss: 0.18\n"
     ]
    },
    {
     "name": "stderr",
     "output_type": "stream",
     "text": [
      "\n",
      "Training: 100%|███████████████████████████████| 750/750 [00:11<00:00, 66.98it/s]"
     ]
    },
    {
     "name": "stdout",
     "output_type": "stream",
     "text": [
      "Epoch 19 training accuracy: 95.91% training loss: 0.14\n"
     ]
    },
    {
     "name": "stderr",
     "output_type": "stream",
     "text": [
      "\n",
      "Validating: 100%|█████████████████████████████| 188/188 [00:02<00:00, 79.39it/s]"
     ]
    },
    {
     "name": "stdout",
     "output_type": "stream",
     "text": [
      "Epoch 19 validation accuracy: 94.55% validation loss: 0.18\n"
     ]
    },
    {
     "name": "stderr",
     "output_type": "stream",
     "text": [
      "\n"
     ]
    }
   ],
   "source": [
    "device = torch.device(\"cuda\" if torch.cuda.is_available() else \"cpu\")\n",
    "model.to(device)\n",
    "\n",
    "epochs = 35\n",
    "train_loss_history = []\n",
    "best_val_loss = float(\"inf\")\n",
    "thresh= 0.001\n",
    "below_threshold = 0\n",
    "patience = 2\n",
    "\n",
    "for epoch in range(epochs):\n",
    "    model.train()\n",
    "    train_loss = 0\n",
    "    train_correct = 0\n",
    "\n",
    "    for batch_idx, (data, labels) in tqdm(enumerate(training_dataloader), desc = \"Training\", total = len(training_dataloader), leave = True, ncols=80):\n",
    "\n",
    "\n",
    "        data, labels = data.to(device), labels.to(device)\n",
    "        optimizer.zero_grad()\n",
    "\n",
    "        input = data.view(data.size(0), -1)\n",
    "\n",
    "\n",
    "\n",
    "        outputs = model(input)\n",
    "        loss = criterion(outputs, labels)\n",
    "\n",
    "        loss.backward()\n",
    "\n",
    "        optimizer.step()\n",
    "        \n",
    "        train_loss += loss.item()\n",
    "        \n",
    "        ps = torch.exp(outputs)\n",
    "        top_ps, top_class = ps.topk(1, dim=1)\n",
    "        equality = top_class == labels.view(*top_class.shape)\n",
    "        train_correct += torch.mean(equality.type(torch.FloatTensor))\n",
    "        \n",
    "    print(\"Epoch {} training accuracy: {:.2f}% training loss: {:.2f}\".format(epoch + 1, (train_correct/len(training_dataloader))*100, (train_loss/len(training_dataloader))))\n",
    "    train_loss_history.append(train_loss/len(training_dataloader))\n",
    "\n",
    "    with torch.no_grad():\n",
    "      val_loss = 0.0\n",
    "      val_correct = 0\n",
    "      val_loss_history = []\n",
    "\n",
    "      model.eval()\n",
    "      for batch_idx, (inputs, labels) in tqdm(enumerate(val_dataloader), desc = \"Validating\", total = len(val_dataloader), leave = True, ncols=80):\n",
    "        \n",
    "        inputs, labels = inputs.to(device), labels.to(device)\n",
    "        \n",
    "        v_output = model(inputs)\n",
    "        v_loss = criterion(v_output, labels)\n",
    "        val_loss += v_loss\n",
    "        \n",
    "        ps = torch.exp(v_output)\n",
    "        top_ps, top_class = ps.topk(1, dim=1)\n",
    "        equality = top_class == labels.view(*top_class.shape)\n",
    "        val_correct += torch.mean(equality.type(torch.FloatTensor))\n",
    "           \n",
    "      print(\"Epoch {} validation accuracy: {:.2f}% validation loss: {:.2f}\".format(epoch + 1, (val_correct/len(val_dataloader))*100, (val_loss/len(val_dataloader))))\n",
    "      val_loss_history.append(val_loss/len(val_dataloader))\n",
    "      diff = best_val_loss - val_loss\n",
    "      if best_val_loss > val_loss:\n",
    "        best_val_loss = val_loss\n",
    "\n",
    "    if diff <= thresh:\n",
    "      below_threshold += 1\n",
    "      if below_threshold >= patience:\n",
    "        break\n"
   ]
  },
  {
   "cell_type": "code",
   "execution_count": 15,
   "metadata": {
    "id": "xpansxaaZGx3"
   },
   "outputs": [
    {
     "name": "stdout",
     "output_type": "stream",
     "text": [
      "test accuracy: 95.23% test loss: 0.16\n"
     ]
    }
   ],
   "source": [
    "# Initialize lists to monitor test loss and accuracy\n",
    "test_loss = 0.0\n",
    "test_correct = 0.0\n",
    "\n",
    "# evaluation mode\n",
    "model.eval()\n",
    "\n",
    "for i, data in enumerate(test_dataloader):\n",
    "    inputs, labels = data\n",
    "    \n",
    "    #forward pass\n",
    "    output = model(inputs)\n",
    "    \n",
    "    #calculate the loss\n",
    "    loss = criterion(output, labels)\n",
    "    \n",
    "    test_loss += loss.item()\n",
    "    ps = torch.exp(output)\n",
    "    top_ps, top_class = ps.topk(1, dim=1)\n",
    "    equality = top_class == labels.view(*top_class.shape)\n",
    "    test_correct += torch.mean(equality.type(torch.FloatTensor))\n",
    "\n",
    "print(\"test accuracy: {:.2f}% test loss: {:.2f}\".format((test_correct/len(test_dataloader))*100, (test_loss/len(test_dataloader))))"
   ]
  },
  {
   "cell_type": "markdown",
   "metadata": {
    "id": "HLvXjm3yZGx3"
   },
   "source": [
    "## Saving your model\n",
    "Using `torch.save`, save your model for future loading."
   ]
  },
  {
   "cell_type": "code",
   "execution_count": 16,
   "metadata": {
    "id": "McF1R2DAZGx3"
   },
   "outputs": [],
   "source": [
    "torch.save(model, \"model.pth\" )"
   ]
  }
 ],
 "metadata": {
  "colab": {
   "provenance": []
  },
  "kernelspec": {
   "display_name": "Python 3",
   "language": "python",
   "name": "python3"
  },
  "language_info": {
   "codemirror_mode": {
    "name": "ipython",
    "version": 3
   },
   "file_extension": ".py",
   "mimetype": "text/x-python",
   "name": "python",
   "nbconvert_exporter": "python",
   "pygments_lexer": "ipython3",
   "version": "3.7.6"
  }
 },
 "nbformat": 4,
 "nbformat_minor": 1
}
